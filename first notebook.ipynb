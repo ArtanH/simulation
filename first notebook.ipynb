{
 "cells": [
  {
   "cell_type": "code",
   "execution_count": 2,
   "metadata": {},
   "outputs": [],
   "source": [
    "import ipywidgets as widgets\n",
    "from ipywidgets import HBox, VBox\n",
    "import numpy as np\n",
    "import matplotlib.pyplot as plt\n",
    "from IPython.display import display\n",
    "%matplotlib inline"
   ]
  },
  {
   "cell_type": "code",
   "execution_count": 7,
   "metadata": {},
   "outputs": [
    {
     "data": {
      "application/vnd.jupyter.widget-view+json": {
       "model_id": "f4e1cea843cc42359a4121d4feb61125",
       "version_major": 2,
       "version_minor": 0
      },
      "text/plain": [
       "interactive(children=(IntSlider(value=5, description='x', max=15, min=-5), Output()), _dom_classes=('widget-in…"
      ]
     },
     "metadata": {},
     "output_type": "display_data"
    }
   ],
   "source": [
    "@widgets.interact\n",
    "def f(x=5):\n",
    "    print(x)"
   ]
  },
  {
   "cell_type": "code",
   "execution_count": 10,
   "metadata": {},
   "outputs": [
    {
     "data": {
      "application/vnd.jupyter.widget-view+json": {
       "model_id": "055c7356936e4cb2a6b161f3fee9b9ad",
       "version_major": 2,
       "version_minor": 0
      },
      "text/plain": [
       "interactive(children=(FloatSlider(value=1.0, description='freq', max=3.0, min=-1.0), Dropdown(description='col…"
      ]
     },
     "metadata": {},
     "output_type": "display_data"
    }
   ],
   "source": [
    "@widgets.interact(\n",
    "color=['blue', 'red', 'green'], lw=(1., 10.))\n",
    "def plot(freq=1., color='blue', lw=2, grid=True):\n",
    "    t = np.linspace(-1., +1., 1000)\n",
    "    fig, ax = plt.subplots(1, 1, figsize=(8, 6))\n",
    "    ax.plot(t, np.sin(2 * np.pi * freq * t),\n",
    "    lw=lw, color=color)\n",
    "    ax.grid(grid)"
   ]
  },
  {
   "cell_type": "code",
   "execution_count": 11,
   "metadata": {},
   "outputs": [
    {
     "ename": "SyntaxError",
     "evalue": "invalid syntax (<ipython-input-11-542fb3cc3d83>, line 1)",
     "output_type": "error",
     "traceback": [
      "\u001b[1;36m  File \u001b[1;32m\"<ipython-input-11-542fb3cc3d83>\"\u001b[1;36m, line \u001b[1;32m1\u001b[0m\n\u001b[1;33m    jupyter nbconvert --to html mynotebook.ipynb\u001b[0m\n\u001b[1;37m                    ^\u001b[0m\n\u001b[1;31mSyntaxError\u001b[0m\u001b[1;31m:\u001b[0m invalid syntax\n"
     ]
    }
   ],
   "source": []
  }
 ],
 "metadata": {
  "kernelspec": {
   "display_name": "Python 3",
   "language": "python",
   "name": "python3"
  },
  "language_info": {
   "codemirror_mode": {
    "name": "ipython",
    "version": 3
   },
   "file_extension": ".py",
   "mimetype": "text/x-python",
   "name": "python",
   "nbconvert_exporter": "python",
   "pygments_lexer": "ipython3",
   "version": "3.7.7"
  },
  "widgets": {
   "application/vnd.jupyter.widget-state+json": {
    "state": {
     "00bee7979c0040feb346f52dde2e5d77": {
      "model_module": "@jupyter-widgets/base",
      "model_module_version": "1.2.0",
      "model_name": "LayoutModel",
      "state": {}
     },
     "055c7356936e4cb2a6b161f3fee9b9ad": {
      "model_module": "@jupyter-widgets/controls",
      "model_module_version": "1.5.0",
      "model_name": "VBoxModel",
      "state": {
       "_dom_classes": [
        "widget-interact"
       ],
       "children": [
        "IPY_MODEL_dca073d6825648e2b3dd4899bc81a4c1",
        "IPY_MODEL_999293ce0e374f1fa841849feaf87278",
        "IPY_MODEL_add03501620d47da91a8848dc643e3d5",
        "IPY_MODEL_1c67200232f64d6198055d1e9c004c3e",
        "IPY_MODEL_0b3708262e83423a88d913493b9e7ee1"
       ],
       "layout": "IPY_MODEL_ea20a33b2afb4f1a80e189cc0ca41b2d"
      }
     },
     "08ab2851424944b4966390f89742e4dc": {
      "model_module": "@jupyter-widgets/controls",
      "model_module_version": "1.5.0",
      "model_name": "ButtonStyleModel",
      "state": {}
     },
     "0b3708262e83423a88d913493b9e7ee1": {
      "model_module": "@jupyter-widgets/output",
      "model_module_version": "1.0.0",
      "model_name": "OutputModel",
      "state": {
       "layout": "IPY_MODEL_a0588272d4074b3e8981df5f9dbc20c4",
       "outputs": [
        {
         "data": {
          "image/png": "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\n",
          "text/plain": "<Figure size 576x432 with 1 Axes>"
         },
         "metadata": {
          "needs_background": "light"
         },
         "output_type": "display_data"
        }
       ]
      }
     },
     "12a53f2045604d458efe1339ceb25085": {
      "model_module": "@jupyter-widgets/base",
      "model_module_version": "1.2.0",
      "model_name": "LayoutModel",
      "state": {}
     },
     "18bd6fe46cf24d21a8b325551eadb21a": {
      "model_module": "@jupyter-widgets/controls",
      "model_module_version": "1.5.0",
      "model_name": "DescriptionStyleModel",
      "state": {
       "description_width": ""
      }
     },
     "1aad9c5ee511446793fb8f0ad813ac87": {
      "model_module": "@jupyter-widgets/base",
      "model_module_version": "1.2.0",
      "model_name": "LayoutModel",
      "state": {}
     },
     "1c67200232f64d6198055d1e9c004c3e": {
      "model_module": "@jupyter-widgets/controls",
      "model_module_version": "1.5.0",
      "model_name": "CheckboxModel",
      "state": {
       "description": "grid",
       "disabled": false,
       "layout": "IPY_MODEL_cb5f479aa17e498590ae1f49778c5f85",
       "style": "IPY_MODEL_d913c62487ad47c1881aca8c9b8685c3",
       "value": true
      }
     },
     "221fd01dd0d5478fb41fb7e16315a779": {
      "model_module": "@jupyter-widgets/controls",
      "model_module_version": "1.5.0",
      "model_name": "FloatSliderModel",
      "state": {
       "description": "freq",
       "layout": "IPY_MODEL_47b97b88758d44c6be6deff9d16ebeb7",
       "max": 3,
       "min": -1,
       "step": 0.1,
       "style": "IPY_MODEL_28dd00b69eae4291904c3be3c11ec120",
       "value": 2.4
      }
     },
     "2685d73371fa4c268dd643b0fd4515a6": {
      "model_module": "@jupyter-widgets/base",
      "model_module_version": "1.2.0",
      "model_name": "LayoutModel",
      "state": {}
     },
     "28dd00b69eae4291904c3be3c11ec120": {
      "model_module": "@jupyter-widgets/controls",
      "model_module_version": "1.5.0",
      "model_name": "SliderStyleModel",
      "state": {
       "description_width": ""
      }
     },
     "3288f0e0bc9a49cebef799ecd4944d78": {
      "model_module": "@jupyter-widgets/base",
      "model_module_version": "1.2.0",
      "model_name": "LayoutModel",
      "state": {}
     },
     "34ac1188cff047909eb2ee902c9bc871": {
      "model_module": "@jupyter-widgets/output",
      "model_module_version": "1.0.0",
      "model_name": "OutputModel",
      "state": {
       "layout": "IPY_MODEL_2685d73371fa4c268dd643b0fd4515a6",
       "outputs": [
        {
         "data": {
          "image/png": "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\n",
          "text/plain": "<Figure size 576x432 with 1 Axes>"
         },
         "metadata": {
          "needs_background": "light"
         },
         "output_type": "display_data"
        }
       ]
      }
     },
     "39cbf930fdba4a9c920c795bf3a52540": {
      "model_module": "@jupyter-widgets/base",
      "model_module_version": "1.2.0",
      "model_name": "LayoutModel",
      "state": {}
     },
     "3a0fc393297d4536bee1930fa82080e3": {
      "model_module": "@jupyter-widgets/base",
      "model_module_version": "1.2.0",
      "model_name": "LayoutModel",
      "state": {}
     },
     "3c1f264c2c5d4e35b7a337a8377f8c60": {
      "model_module": "@jupyter-widgets/controls",
      "model_module_version": "1.5.0",
      "model_name": "VBoxModel",
      "state": {
       "_dom_classes": [
        "widget-interact"
       ],
       "children": [
        "IPY_MODEL_221fd01dd0d5478fb41fb7e16315a779",
        "IPY_MODEL_bd75d3ced0e34ca5b78b932ae1e3f7aa",
        "IPY_MODEL_c3f78c6aab3644738dcb0f041d56d972",
        "IPY_MODEL_45f6b2ed6a9840c59fb791ab0503f982",
        "IPY_MODEL_a3fac78b5c4f4a6280eba5ea07c47a2b",
        "IPY_MODEL_34ac1188cff047909eb2ee902c9bc871"
       ],
       "layout": "IPY_MODEL_d91a4f49482f40b1a01bd88bcdc2876a"
      }
     },
     "41898a0a6af54774b0c091db953af197": {
      "model_module": "@jupyter-widgets/controls",
      "model_module_version": "1.5.0",
      "model_name": "IntSliderModel",
      "state": {
       "description": "x",
       "layout": "IPY_MODEL_6b96beb11ce340d68ac1d1c9250e1587",
       "max": 15,
       "min": -5,
       "style": "IPY_MODEL_4a840a6d909b4229aca021e5b1d5b0c8",
       "value": 5
      }
     },
     "45f6b2ed6a9840c59fb791ab0503f982": {
      "model_module": "@jupyter-widgets/controls",
      "model_module_version": "1.5.0",
      "model_name": "CheckboxModel",
      "state": {
       "description": "grid",
       "disabled": false,
       "layout": "IPY_MODEL_3288f0e0bc9a49cebef799ecd4944d78",
       "style": "IPY_MODEL_18bd6fe46cf24d21a8b325551eadb21a",
       "value": true
      }
     },
     "47b97b88758d44c6be6deff9d16ebeb7": {
      "model_module": "@jupyter-widgets/base",
      "model_module_version": "1.2.0",
      "model_name": "LayoutModel",
      "state": {}
     },
     "48fa9bedccb04fc2b993b37e2795f37d": {
      "model_module": "@jupyter-widgets/output",
      "model_module_version": "1.0.0",
      "model_name": "OutputModel",
      "state": {
       "layout": "IPY_MODEL_86f1c749372a46e79b100ca27f9427e1",
       "outputs": [
        {
         "name": "stdout",
         "output_type": "stream",
         "text": "5\n"
        }
       ]
      }
     },
     "496904c9b34942b181f6ef55eeb86de3": {
      "model_module": "@jupyter-widgets/controls",
      "model_module_version": "1.5.0",
      "model_name": "SliderStyleModel",
      "state": {
       "description_width": ""
      }
     },
     "4a840a6d909b4229aca021e5b1d5b0c8": {
      "model_module": "@jupyter-widgets/controls",
      "model_module_version": "1.5.0",
      "model_name": "SliderStyleModel",
      "state": {
       "description_width": ""
      }
     },
     "4d01635d8c724c9b965af3e18e9399a7": {
      "model_module": "@jupyter-widgets/controls",
      "model_module_version": "1.5.0",
      "model_name": "SliderStyleModel",
      "state": {
       "description_width": ""
      }
     },
     "57b916a88b884cc99104af8b0594f64d": {
      "model_module": "@jupyter-widgets/controls",
      "model_module_version": "1.5.0",
      "model_name": "SliderStyleModel",
      "state": {
       "description_width": ""
      }
     },
     "64b08894b5434ddf95d50f21c6903fcf": {
      "model_module": "@jupyter-widgets/controls",
      "model_module_version": "1.5.0",
      "model_name": "IntSliderModel",
      "state": {
       "description": "x",
       "layout": "IPY_MODEL_82109d5f2cff4bd9999e9f1f7891337d",
       "max": 15,
       "min": -5,
       "style": "IPY_MODEL_57b916a88b884cc99104af8b0594f64d",
       "value": 5
      }
     },
     "6b96beb11ce340d68ac1d1c9250e1587": {
      "model_module": "@jupyter-widgets/base",
      "model_module_version": "1.2.0",
      "model_name": "LayoutModel",
      "state": {}
     },
     "6f876c79366d426cb5b28d93750a16f3": {
      "model_module": "@jupyter-widgets/controls",
      "model_module_version": "1.5.0",
      "model_name": "VBoxModel",
      "state": {
       "_dom_classes": [
        "widget-interact"
       ],
       "children": [
        "IPY_MODEL_a992f530df734ca5bc141c633c57607c",
        "IPY_MODEL_77db39dfb7704a39b905a6dda794cdbc"
       ],
       "layout": "IPY_MODEL_1aad9c5ee511446793fb8f0ad813ac87"
      }
     },
     "731b29a71806423fae589e2e56316b73": {
      "model_module": "@jupyter-widgets/base",
      "model_module_version": "1.2.0",
      "model_name": "LayoutModel",
      "state": {}
     },
     "766d0606c1db48d3a00bbf3e243849ba": {
      "model_module": "@jupyter-widgets/base",
      "model_module_version": "1.2.0",
      "model_name": "LayoutModel",
      "state": {}
     },
     "77db39dfb7704a39b905a6dda794cdbc": {
      "model_module": "@jupyter-widgets/output",
      "model_module_version": "1.0.0",
      "model_name": "OutputModel",
      "state": {
       "layout": "IPY_MODEL_e966a606e8bd4535a7ff9519e0b0c08d",
       "outputs": [
        {
         "name": "stdout",
         "output_type": "stream",
         "text": "5\n"
        }
       ]
      }
     },
     "7e6002c69cb74477ac19ffde6c7777bf": {
      "model_module": "@jupyter-widgets/controls",
      "model_module_version": "1.5.0",
      "model_name": "SliderStyleModel",
      "state": {
       "description_width": ""
      }
     },
     "82109d5f2cff4bd9999e9f1f7891337d": {
      "model_module": "@jupyter-widgets/base",
      "model_module_version": "1.2.0",
      "model_name": "LayoutModel",
      "state": {}
     },
     "83c4791d9e60481d9f1ff96937046af5": {
      "model_module": "@jupyter-widgets/controls",
      "model_module_version": "1.5.0",
      "model_name": "DescriptionStyleModel",
      "state": {
       "description_width": ""
      }
     },
     "86f1c749372a46e79b100ca27f9427e1": {
      "model_module": "@jupyter-widgets/base",
      "model_module_version": "1.2.0",
      "model_name": "LayoutModel",
      "state": {}
     },
     "9438be6227724d8fa57b61c5601f4d0d": {
      "model_module": "@jupyter-widgets/output",
      "model_module_version": "1.0.0",
      "model_name": "OutputModel",
      "state": {
       "layout": "IPY_MODEL_ac393545d27647b184702a7ddcb71579",
       "outputs": [
        {
         "name": "stdout",
         "output_type": "stream",
         "text": "5\n"
        }
       ]
      }
     },
     "9978fff146b8467abfb136a6cffe2cf2": {
      "model_module": "@jupyter-widgets/controls",
      "model_module_version": "1.5.0",
      "model_name": "VBoxModel",
      "state": {
       "_dom_classes": [
        "widget-interact"
       ],
       "children": [
        "IPY_MODEL_64b08894b5434ddf95d50f21c6903fcf",
        "IPY_MODEL_48fa9bedccb04fc2b993b37e2795f37d"
       ],
       "layout": "IPY_MODEL_766d0606c1db48d3a00bbf3e243849ba"
      }
     },
     "999293ce0e374f1fa841849feaf87278": {
      "model_module": "@jupyter-widgets/controls",
      "model_module_version": "1.5.0",
      "model_name": "DropdownModel",
      "state": {
       "_options_labels": [
        "blue",
        "red",
        "green"
       ],
       "description": "color",
       "index": 0,
       "layout": "IPY_MODEL_3a0fc393297d4536bee1930fa82080e3",
       "style": "IPY_MODEL_e95b4fc4bf8747afa7bff9d06020c731"
      }
     },
     "a0588272d4074b3e8981df5f9dbc20c4": {
      "model_module": "@jupyter-widgets/base",
      "model_module_version": "1.2.0",
      "model_name": "LayoutModel",
      "state": {}
     },
     "a3fac78b5c4f4a6280eba5ea07c47a2b": {
      "model_module": "@jupyter-widgets/controls",
      "model_module_version": "1.5.0",
      "model_name": "ButtonModel",
      "state": {
       "description": "Run Interact",
       "layout": "IPY_MODEL_39cbf930fdba4a9c920c795bf3a52540",
       "style": "IPY_MODEL_08ab2851424944b4966390f89742e4dc"
      }
     },
     "a992f530df734ca5bc141c633c57607c": {
      "model_module": "@jupyter-widgets/controls",
      "model_module_version": "1.5.0",
      "model_name": "IntSliderModel",
      "state": {
       "description": "x",
       "layout": "IPY_MODEL_731b29a71806423fae589e2e56316b73",
       "max": 15,
       "min": -5,
       "style": "IPY_MODEL_7e6002c69cb74477ac19ffde6c7777bf",
       "value": 5
      }
     },
     "ac393545d27647b184702a7ddcb71579": {
      "model_module": "@jupyter-widgets/base",
      "model_module_version": "1.2.0",
      "model_name": "LayoutModel",
      "state": {}
     },
     "add03501620d47da91a8848dc643e3d5": {
      "model_module": "@jupyter-widgets/controls",
      "model_module_version": "1.5.0",
      "model_name": "FloatSliderModel",
      "state": {
       "description": "lw",
       "layout": "IPY_MODEL_ce9a4269ebcd405cb36b37270aea1533",
       "max": 10,
       "min": 1,
       "step": 0.1,
       "style": "IPY_MODEL_4d01635d8c724c9b965af3e18e9399a7",
       "value": 8.1
      }
     },
     "bd75d3ced0e34ca5b78b932ae1e3f7aa": {
      "model_module": "@jupyter-widgets/controls",
      "model_module_version": "1.5.0",
      "model_name": "DropdownModel",
      "state": {
       "_options_labels": [
        "blue",
        "red",
        "green"
       ],
       "description": "color",
       "index": 0,
       "layout": "IPY_MODEL_00bee7979c0040feb346f52dde2e5d77",
       "style": "IPY_MODEL_83c4791d9e60481d9f1ff96937046af5"
      }
     },
     "c3f78c6aab3644738dcb0f041d56d972": {
      "model_module": "@jupyter-widgets/controls",
      "model_module_version": "1.5.0",
      "model_name": "FloatSliderModel",
      "state": {
       "description": "lw",
       "layout": "IPY_MODEL_d0e3a9cafb154e35a53fc48f76cfd3f7",
       "max": 10,
       "min": 1,
       "step": 0.1,
       "style": "IPY_MODEL_d235aa920f564c3784cc7be0b27876e4",
       "value": 3.4
      }
     },
     "cb5f479aa17e498590ae1f49778c5f85": {
      "model_module": "@jupyter-widgets/base",
      "model_module_version": "1.2.0",
      "model_name": "LayoutModel",
      "state": {}
     },
     "ce9a4269ebcd405cb36b37270aea1533": {
      "model_module": "@jupyter-widgets/base",
      "model_module_version": "1.2.0",
      "model_name": "LayoutModel",
      "state": {}
     },
     "d0e3a9cafb154e35a53fc48f76cfd3f7": {
      "model_module": "@jupyter-widgets/base",
      "model_module_version": "1.2.0",
      "model_name": "LayoutModel",
      "state": {}
     },
     "d235aa920f564c3784cc7be0b27876e4": {
      "model_module": "@jupyter-widgets/controls",
      "model_module_version": "1.5.0",
      "model_name": "SliderStyleModel",
      "state": {
       "description_width": ""
      }
     },
     "d913c62487ad47c1881aca8c9b8685c3": {
      "model_module": "@jupyter-widgets/controls",
      "model_module_version": "1.5.0",
      "model_name": "DescriptionStyleModel",
      "state": {
       "description_width": ""
      }
     },
     "d91a4f49482f40b1a01bd88bcdc2876a": {
      "model_module": "@jupyter-widgets/base",
      "model_module_version": "1.2.0",
      "model_name": "LayoutModel",
      "state": {}
     },
     "dca073d6825648e2b3dd4899bc81a4c1": {
      "model_module": "@jupyter-widgets/controls",
      "model_module_version": "1.5.0",
      "model_name": "FloatSliderModel",
      "state": {
       "description": "freq",
       "layout": "IPY_MODEL_12a53f2045604d458efe1339ceb25085",
       "max": 3,
       "min": -1,
       "step": 0.1,
       "style": "IPY_MODEL_496904c9b34942b181f6ef55eeb86de3",
       "value": 0.3
      }
     },
     "e00a71361735489aa5e5242855931a75": {
      "model_module": "@jupyter-widgets/base",
      "model_module_version": "1.2.0",
      "model_name": "LayoutModel",
      "state": {}
     },
     "e95b4fc4bf8747afa7bff9d06020c731": {
      "model_module": "@jupyter-widgets/controls",
      "model_module_version": "1.5.0",
      "model_name": "DescriptionStyleModel",
      "state": {
       "description_width": ""
      }
     },
     "e966a606e8bd4535a7ff9519e0b0c08d": {
      "model_module": "@jupyter-widgets/base",
      "model_module_version": "1.2.0",
      "model_name": "LayoutModel",
      "state": {}
     },
     "ea20a33b2afb4f1a80e189cc0ca41b2d": {
      "model_module": "@jupyter-widgets/base",
      "model_module_version": "1.2.0",
      "model_name": "LayoutModel",
      "state": {}
     },
     "f4e1cea843cc42359a4121d4feb61125": {
      "model_module": "@jupyter-widgets/controls",
      "model_module_version": "1.5.0",
      "model_name": "VBoxModel",
      "state": {
       "_dom_classes": [
        "widget-interact"
       ],
       "children": [
        "IPY_MODEL_41898a0a6af54774b0c091db953af197",
        "IPY_MODEL_9438be6227724d8fa57b61c5601f4d0d"
       ],
       "layout": "IPY_MODEL_e00a71361735489aa5e5242855931a75"
      }
     }
    },
    "version_major": 2,
    "version_minor": 0
   }
  }
 },
 "nbformat": 4,
 "nbformat_minor": 4
}
